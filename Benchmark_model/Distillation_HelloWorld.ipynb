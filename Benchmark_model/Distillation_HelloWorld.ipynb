{
  "nbformat": 4,
  "nbformat_minor": 0,
  "metadata": {
    "colab": {
      "name": "Distillation-HelloWorld.ipynb",
      "provenance": [],
      "include_colab_link": true
    },
    "kernelspec": {
      "name": "python3",
      "display_name": "Python 3"
    },
    "accelerator": "GPU",
    "widgets": {
      "application/vnd.jupyter.widget-state+json": {
        "bc0f95e0b70641f1940fbd3a3fbc079e": {
          "model_module": "@jupyter-widgets/controls",
          "model_name": "HBoxModel",
          "state": {
            "_view_name": "HBoxView",
            "_dom_classes": [],
            "_model_name": "HBoxModel",
            "_view_module": "@jupyter-widgets/controls",
            "_model_module_version": "1.5.0",
            "_view_count": null,
            "_view_module_version": "1.5.0",
            "box_style": "",
            "layout": "IPY_MODEL_30ef0d9f5dbb4e438dc39a2f3b5b62d8",
            "_model_module": "@jupyter-widgets/controls",
            "children": [
              "IPY_MODEL_0b4ea0d2cf2c44caab9b77f10c97b8c3",
              "IPY_MODEL_3f25d5aca6bd4f1fb05393b41a60fa5f"
            ]
          }
        },
        "30ef0d9f5dbb4e438dc39a2f3b5b62d8": {
          "model_module": "@jupyter-widgets/base",
          "model_name": "LayoutModel",
          "state": {
            "_view_name": "LayoutView",
            "grid_template_rows": null,
            "right": null,
            "justify_content": null,
            "_view_module": "@jupyter-widgets/base",
            "overflow": null,
            "_model_module_version": "1.2.0",
            "_view_count": null,
            "flex_flow": null,
            "width": null,
            "min_width": null,
            "border": null,
            "align_items": null,
            "bottom": null,
            "_model_module": "@jupyter-widgets/base",
            "top": null,
            "grid_column": null,
            "overflow_y": null,
            "overflow_x": null,
            "grid_auto_flow": null,
            "grid_area": null,
            "grid_template_columns": null,
            "flex": null,
            "_model_name": "LayoutModel",
            "justify_items": null,
            "grid_row": null,
            "max_height": null,
            "align_content": null,
            "visibility": null,
            "align_self": null,
            "height": null,
            "min_height": null,
            "padding": null,
            "grid_auto_rows": null,
            "grid_gap": null,
            "max_width": null,
            "order": null,
            "_view_module_version": "1.2.0",
            "grid_template_areas": null,
            "object_position": null,
            "object_fit": null,
            "grid_auto_columns": null,
            "margin": null,
            "display": null,
            "left": null
          }
        },
        "0b4ea0d2cf2c44caab9b77f10c97b8c3": {
          "model_module": "@jupyter-widgets/controls",
          "model_name": "IntProgressModel",
          "state": {
            "_view_name": "ProgressView",
            "style": "IPY_MODEL_b83494e171784287ae2eeb65a5617060",
            "_dom_classes": [],
            "description": "",
            "_model_name": "IntProgressModel",
            "bar_style": "success",
            "max": 1,
            "_view_module": "@jupyter-widgets/controls",
            "_model_module_version": "1.5.0",
            "value": 1,
            "_view_count": null,
            "_view_module_version": "1.5.0",
            "orientation": "horizontal",
            "min": 0,
            "description_tooltip": null,
            "_model_module": "@jupyter-widgets/controls",
            "layout": "IPY_MODEL_0dc34eb1c8e44c29a263e30a51fbe43b"
          }
        },
        "3f25d5aca6bd4f1fb05393b41a60fa5f": {
          "model_module": "@jupyter-widgets/controls",
          "model_name": "HTMLModel",
          "state": {
            "_view_name": "HTMLView",
            "style": "IPY_MODEL_d59d7c30825641d4b0c7dfcef78c5bea",
            "_dom_classes": [],
            "description": "",
            "_model_name": "HTMLModel",
            "placeholder": "​",
            "_view_module": "@jupyter-widgets/controls",
            "_model_module_version": "1.5.0",
            "value": "2084it [24:53,  1.71it/s]",
            "_view_count": null,
            "_view_module_version": "1.5.0",
            "description_tooltip": null,
            "_model_module": "@jupyter-widgets/controls",
            "layout": "IPY_MODEL_9a29ad9dc2d84fffb57f78c2d98d60a9"
          }
        },
        "b83494e171784287ae2eeb65a5617060": {
          "model_module": "@jupyter-widgets/controls",
          "model_name": "ProgressStyleModel",
          "state": {
            "_view_name": "StyleView",
            "_model_name": "ProgressStyleModel",
            "description_width": "",
            "_view_module": "@jupyter-widgets/base",
            "_model_module_version": "1.5.0",
            "_view_count": null,
            "_view_module_version": "1.2.0",
            "bar_color": null,
            "_model_module": "@jupyter-widgets/controls"
          }
        },
        "0dc34eb1c8e44c29a263e30a51fbe43b": {
          "model_module": "@jupyter-widgets/base",
          "model_name": "LayoutModel",
          "state": {
            "_view_name": "LayoutView",
            "grid_template_rows": null,
            "right": null,
            "justify_content": null,
            "_view_module": "@jupyter-widgets/base",
            "overflow": null,
            "_model_module_version": "1.2.0",
            "_view_count": null,
            "flex_flow": null,
            "width": null,
            "min_width": null,
            "border": null,
            "align_items": null,
            "bottom": null,
            "_model_module": "@jupyter-widgets/base",
            "top": null,
            "grid_column": null,
            "overflow_y": null,
            "overflow_x": null,
            "grid_auto_flow": null,
            "grid_area": null,
            "grid_template_columns": null,
            "flex": null,
            "_model_name": "LayoutModel",
            "justify_items": null,
            "grid_row": null,
            "max_height": null,
            "align_content": null,
            "visibility": null,
            "align_self": null,
            "height": null,
            "min_height": null,
            "padding": null,
            "grid_auto_rows": null,
            "grid_gap": null,
            "max_width": null,
            "order": null,
            "_view_module_version": "1.2.0",
            "grid_template_areas": null,
            "object_position": null,
            "object_fit": null,
            "grid_auto_columns": null,
            "margin": null,
            "display": null,
            "left": null
          }
        },
        "d59d7c30825641d4b0c7dfcef78c5bea": {
          "model_module": "@jupyter-widgets/controls",
          "model_name": "DescriptionStyleModel",
          "state": {
            "_view_name": "StyleView",
            "_model_name": "DescriptionStyleModel",
            "description_width": "",
            "_view_module": "@jupyter-widgets/base",
            "_model_module_version": "1.5.0",
            "_view_count": null,
            "_view_module_version": "1.2.0",
            "_model_module": "@jupyter-widgets/controls"
          }
        },
        "9a29ad9dc2d84fffb57f78c2d98d60a9": {
          "model_module": "@jupyter-widgets/base",
          "model_name": "LayoutModel",
          "state": {
            "_view_name": "LayoutView",
            "grid_template_rows": null,
            "right": null,
            "justify_content": null,
            "_view_module": "@jupyter-widgets/base",
            "overflow": null,
            "_model_module_version": "1.2.0",
            "_view_count": null,
            "flex_flow": null,
            "width": null,
            "min_width": null,
            "border": null,
            "align_items": null,
            "bottom": null,
            "_model_module": "@jupyter-widgets/base",
            "top": null,
            "grid_column": null,
            "overflow_y": null,
            "overflow_x": null,
            "grid_auto_flow": null,
            "grid_area": null,
            "grid_template_columns": null,
            "flex": null,
            "_model_name": "LayoutModel",
            "justify_items": null,
            "grid_row": null,
            "max_height": null,
            "align_content": null,
            "visibility": null,
            "align_self": null,
            "height": null,
            "min_height": null,
            "padding": null,
            "grid_auto_rows": null,
            "grid_gap": null,
            "max_width": null,
            "order": null,
            "_view_module_version": "1.2.0",
            "grid_template_areas": null,
            "object_position": null,
            "object_fit": null,
            "grid_auto_columns": null,
            "margin": null,
            "display": null,
            "left": null
          }
        },
        "881e2c358b9c417694abd1cb678050c3": {
          "model_module": "@jupyter-widgets/controls",
          "model_name": "HBoxModel",
          "state": {
            "_view_name": "HBoxView",
            "_dom_classes": [],
            "_model_name": "HBoxModel",
            "_view_module": "@jupyter-widgets/controls",
            "_model_module_version": "1.5.0",
            "_view_count": null,
            "_view_module_version": "1.5.0",
            "box_style": "",
            "layout": "IPY_MODEL_abaca9c167bd4606b785b1fab6983ed7",
            "_model_module": "@jupyter-widgets/controls",
            "children": [
              "IPY_MODEL_f10d8ddf517d4dc18a31b8b258e69f20",
              "IPY_MODEL_1e52a4db24ef4354aa92e277c3c03407"
            ]
          }
        },
        "abaca9c167bd4606b785b1fab6983ed7": {
          "model_module": "@jupyter-widgets/base",
          "model_name": "LayoutModel",
          "state": {
            "_view_name": "LayoutView",
            "grid_template_rows": null,
            "right": null,
            "justify_content": null,
            "_view_module": "@jupyter-widgets/base",
            "overflow": null,
            "_model_module_version": "1.2.0",
            "_view_count": null,
            "flex_flow": null,
            "width": null,
            "min_width": null,
            "border": null,
            "align_items": null,
            "bottom": null,
            "_model_module": "@jupyter-widgets/base",
            "top": null,
            "grid_column": null,
            "overflow_y": null,
            "overflow_x": null,
            "grid_auto_flow": null,
            "grid_area": null,
            "grid_template_columns": null,
            "flex": null,
            "_model_name": "LayoutModel",
            "justify_items": null,
            "grid_row": null,
            "max_height": null,
            "align_content": null,
            "visibility": null,
            "align_self": null,
            "height": null,
            "min_height": null,
            "padding": null,
            "grid_auto_rows": null,
            "grid_gap": null,
            "max_width": null,
            "order": null,
            "_view_module_version": "1.2.0",
            "grid_template_areas": null,
            "object_position": null,
            "object_fit": null,
            "grid_auto_columns": null,
            "margin": null,
            "display": null,
            "left": null
          }
        },
        "f10d8ddf517d4dc18a31b8b258e69f20": {
          "model_module": "@jupyter-widgets/controls",
          "model_name": "IntProgressModel",
          "state": {
            "_view_name": "ProgressView",
            "style": "IPY_MODEL_ed2fd8a5f9404e1e97e0545a6438ff37",
            "_dom_classes": [],
            "description": "",
            "_model_name": "IntProgressModel",
            "bar_style": "info",
            "max": 1,
            "_view_module": "@jupyter-widgets/controls",
            "_model_module_version": "1.5.0",
            "value": 1,
            "_view_count": null,
            "_view_module_version": "1.5.0",
            "orientation": "horizontal",
            "min": 0,
            "description_tooltip": null,
            "_model_module": "@jupyter-widgets/controls",
            "layout": "IPY_MODEL_59ad10bc2d5b41cb931b6c4bd743e332"
          }
        },
        "1e52a4db24ef4354aa92e277c3c03407": {
          "model_module": "@jupyter-widgets/controls",
          "model_name": "HTMLModel",
          "state": {
            "_view_name": "HTMLView",
            "style": "IPY_MODEL_17af99d33c954e9db6a916c9031899aa",
            "_dom_classes": [],
            "description": "",
            "_model_name": "HTMLModel",
            "placeholder": "​",
            "_view_module": "@jupyter-widgets/controls",
            "_model_module_version": "1.5.0",
            "value": "40it [00:28,  1.40it/s]",
            "_view_count": null,
            "_view_module_version": "1.5.0",
            "description_tooltip": null,
            "_model_module": "@jupyter-widgets/controls",
            "layout": "IPY_MODEL_6535d5b0aecd47b59403691678d27ef9"
          }
        },
        "ed2fd8a5f9404e1e97e0545a6438ff37": {
          "model_module": "@jupyter-widgets/controls",
          "model_name": "ProgressStyleModel",
          "state": {
            "_view_name": "StyleView",
            "_model_name": "ProgressStyleModel",
            "description_width": "",
            "_view_module": "@jupyter-widgets/base",
            "_model_module_version": "1.5.0",
            "_view_count": null,
            "_view_module_version": "1.2.0",
            "bar_color": null,
            "_model_module": "@jupyter-widgets/controls"
          }
        },
        "59ad10bc2d5b41cb931b6c4bd743e332": {
          "model_module": "@jupyter-widgets/base",
          "model_name": "LayoutModel",
          "state": {
            "_view_name": "LayoutView",
            "grid_template_rows": null,
            "right": null,
            "justify_content": null,
            "_view_module": "@jupyter-widgets/base",
            "overflow": null,
            "_model_module_version": "1.2.0",
            "_view_count": null,
            "flex_flow": null,
            "width": null,
            "min_width": null,
            "border": null,
            "align_items": null,
            "bottom": null,
            "_model_module": "@jupyter-widgets/base",
            "top": null,
            "grid_column": null,
            "overflow_y": null,
            "overflow_x": null,
            "grid_auto_flow": null,
            "grid_area": null,
            "grid_template_columns": null,
            "flex": null,
            "_model_name": "LayoutModel",
            "justify_items": null,
            "grid_row": null,
            "max_height": null,
            "align_content": null,
            "visibility": null,
            "align_self": null,
            "height": null,
            "min_height": null,
            "padding": null,
            "grid_auto_rows": null,
            "grid_gap": null,
            "max_width": null,
            "order": null,
            "_view_module_version": "1.2.0",
            "grid_template_areas": null,
            "object_position": null,
            "object_fit": null,
            "grid_auto_columns": null,
            "margin": null,
            "display": null,
            "left": null
          }
        },
        "17af99d33c954e9db6a916c9031899aa": {
          "model_module": "@jupyter-widgets/controls",
          "model_name": "DescriptionStyleModel",
          "state": {
            "_view_name": "StyleView",
            "_model_name": "DescriptionStyleModel",
            "description_width": "",
            "_view_module": "@jupyter-widgets/base",
            "_model_module_version": "1.5.0",
            "_view_count": null,
            "_view_module_version": "1.2.0",
            "_model_module": "@jupyter-widgets/controls"
          }
        },
        "6535d5b0aecd47b59403691678d27ef9": {
          "model_module": "@jupyter-widgets/base",
          "model_name": "LayoutModel",
          "state": {
            "_view_name": "LayoutView",
            "grid_template_rows": null,
            "right": null,
            "justify_content": null,
            "_view_module": "@jupyter-widgets/base",
            "overflow": null,
            "_model_module_version": "1.2.0",
            "_view_count": null,
            "flex_flow": null,
            "width": null,
            "min_width": null,
            "border": null,
            "align_items": null,
            "bottom": null,
            "_model_module": "@jupyter-widgets/base",
            "top": null,
            "grid_column": null,
            "overflow_y": null,
            "overflow_x": null,
            "grid_auto_flow": null,
            "grid_area": null,
            "grid_template_columns": null,
            "flex": null,
            "_model_name": "LayoutModel",
            "justify_items": null,
            "grid_row": null,
            "max_height": null,
            "align_content": null,
            "visibility": null,
            "align_self": null,
            "height": null,
            "min_height": null,
            "padding": null,
            "grid_auto_rows": null,
            "grid_gap": null,
            "max_width": null,
            "order": null,
            "_view_module_version": "1.2.0",
            "grid_template_areas": null,
            "object_position": null,
            "object_fit": null,
            "grid_auto_columns": null,
            "margin": null,
            "display": null,
            "left": null
          }
        }
      }
    }
  },
  "cells": [
    {
      "cell_type": "markdown",
      "metadata": {
        "id": "view-in-github",
        "colab_type": "text"
      },
      "source": [
        "<a href=\"https://colab.research.google.com/github/rakeshsiri/AI_at_scale/blob/master/Distillation_HelloWorld.ipynb\" target=\"_parent\"><img src=\"https://colab.research.google.com/assets/colab-badge.svg\" alt=\"Open In Colab\"/></a>"
      ]
    },
    {
      "cell_type": "code",
      "metadata": {
        "id": "LoSEiHKko4Vx",
        "colab_type": "code",
        "outputId": "90ffe855-cea9-4d6a-b9df-cb4f1b0a146f",
        "colab": {
          "base_uri": "https://localhost:8080/",
          "height": 311
        }
      },
      "source": [
        "!nvidia-smi"
      ],
      "execution_count": 0,
      "outputs": [
        {
          "output_type": "stream",
          "text": [
            "Tue Jan 14 16:58:09 2020       \n",
            "+-----------------------------------------------------------------------------+\n",
            "| NVIDIA-SMI 440.44       Driver Version: 418.67       CUDA Version: 10.1     |\n",
            "|-------------------------------+----------------------+----------------------+\n",
            "| GPU  Name        Persistence-M| Bus-Id        Disp.A | Volatile Uncorr. ECC |\n",
            "| Fan  Temp  Perf  Pwr:Usage/Cap|         Memory-Usage | GPU-Util  Compute M. |\n",
            "|===============================+======================+======================|\n",
            "|   0  Tesla P100-PCIE...  Off  | 00000000:00:04.0 Off |                    0 |\n",
            "| N/A   40C    P0    27W / 250W |      0MiB / 16280MiB |      0%      Default |\n",
            "+-------------------------------+----------------------+----------------------+\n",
            "                                                                               \n",
            "+-----------------------------------------------------------------------------+\n",
            "| Processes:                                                       GPU Memory |\n",
            "|  GPU       PID   Type   Process name                             Usage      |\n",
            "|=============================================================================|\n",
            "|  No running processes found                                                 |\n",
            "+-----------------------------------------------------------------------------+\n"
          ],
          "name": "stdout"
        }
      ]
    },
    {
      "cell_type": "code",
      "metadata": {
        "id": "mDehFWBuc1LX",
        "colab_type": "code",
        "outputId": "f5dfd3c1-5bb4-4c42-8ac8-ac6361a61cfc",
        "colab": {
          "base_uri": "https://localhost:8080/",
          "height": 659
        }
      },
      "source": [
        "!pip install transformers pytorch-nlp"
      ],
      "execution_count": 0,
      "outputs": [
        {
          "output_type": "stream",
          "text": [
            "Collecting transformers\n",
            "\u001b[?25l  Downloading https://files.pythonhosted.org/packages/50/10/aeefced99c8a59d828a92cc11d213e2743212d3641c87c82d61b035a7d5c/transformers-2.3.0-py3-none-any.whl (447kB)\n",
            "\r\u001b[K     |▊                               | 10kB 33.4MB/s eta 0:00:01\r\u001b[K     |█▌                              | 20kB 2.2MB/s eta 0:00:01\r\u001b[K     |██▏                             | 30kB 3.0MB/s eta 0:00:01\r\u001b[K     |███                             | 40kB 2.1MB/s eta 0:00:01\r\u001b[K     |███▋                            | 51kB 2.3MB/s eta 0:00:01\r\u001b[K     |████▍                           | 61kB 2.8MB/s eta 0:00:01\r\u001b[K     |█████▏                          | 71kB 3.1MB/s eta 0:00:01\r\u001b[K     |█████▉                          | 81kB 3.3MB/s eta 0:00:01\r\u001b[K     |██████▋                         | 92kB 3.7MB/s eta 0:00:01\r\u001b[K     |███████▎                        | 102kB 3.4MB/s eta 0:00:01\r\u001b[K     |████████                        | 112kB 3.4MB/s eta 0:00:01\r\u001b[K     |████████▉                       | 122kB 3.4MB/s eta 0:00:01\r\u001b[K     |█████████▌                      | 133kB 3.4MB/s eta 0:00:01\r\u001b[K     |██████████▎                     | 143kB 3.4MB/s eta 0:00:01\r\u001b[K     |███████████                     | 153kB 3.4MB/s eta 0:00:01\r\u001b[K     |███████████▊                    | 163kB 3.4MB/s eta 0:00:01\r\u001b[K     |████████████▌                   | 174kB 3.4MB/s eta 0:00:01\r\u001b[K     |█████████████▏                  | 184kB 3.4MB/s eta 0:00:01\r\u001b[K     |██████████████                  | 194kB 3.4MB/s eta 0:00:01\r\u001b[K     |██████████████▋                 | 204kB 3.4MB/s eta 0:00:01\r\u001b[K     |███████████████▍                | 215kB 3.4MB/s eta 0:00:01\r\u001b[K     |████████████████▏               | 225kB 3.4MB/s eta 0:00:01\r\u001b[K     |████████████████▉               | 235kB 3.4MB/s eta 0:00:01\r\u001b[K     |█████████████████▋              | 245kB 3.4MB/s eta 0:00:01\r\u001b[K     |██████████████████▎             | 256kB 3.4MB/s eta 0:00:01\r\u001b[K     |███████████████████             | 266kB 3.4MB/s eta 0:00:01\r\u001b[K     |███████████████████▊            | 276kB 3.4MB/s eta 0:00:01\r\u001b[K     |████████████████████▌           | 286kB 3.4MB/s eta 0:00:01\r\u001b[K     |█████████████████████▎          | 296kB 3.4MB/s eta 0:00:01\r\u001b[K     |██████████████████████          | 307kB 3.4MB/s eta 0:00:01\r\u001b[K     |██████████████████████▊         | 317kB 3.4MB/s eta 0:00:01\r\u001b[K     |███████████████████████▍        | 327kB 3.4MB/s eta 0:00:01\r\u001b[K     |████████████████████████▏       | 337kB 3.4MB/s eta 0:00:01\r\u001b[K     |█████████████████████████       | 348kB 3.4MB/s eta 0:00:01\r\u001b[K     |█████████████████████████▋      | 358kB 3.4MB/s eta 0:00:01\r\u001b[K     |██████████████████████████▍     | 368kB 3.4MB/s eta 0:00:01\r\u001b[K     |███████████████████████████     | 378kB 3.4MB/s eta 0:00:01\r\u001b[K     |███████████████████████████▉    | 389kB 3.4MB/s eta 0:00:01\r\u001b[K     |████████████████████████████▋   | 399kB 3.4MB/s eta 0:00:01\r\u001b[K     |█████████████████████████████▎  | 409kB 3.4MB/s eta 0:00:01\r\u001b[K     |██████████████████████████████  | 419kB 3.4MB/s eta 0:00:01\r\u001b[K     |██████████████████████████████▊ | 430kB 3.4MB/s eta 0:00:01\r\u001b[K     |███████████████████████████████▌| 440kB 3.4MB/s eta 0:00:01\r\u001b[K     |████████████████████████████████| 450kB 3.4MB/s \n",
            "\u001b[?25hCollecting pytorch-nlp\n",
            "\u001b[?25l  Downloading https://files.pythonhosted.org/packages/4f/51/f0ee1efb75f7cc2e3065c5da1363d6be2eec79691b2821594f3f2329528c/pytorch_nlp-0.5.0-py3-none-any.whl (90kB)\n",
            "\r\u001b[K     |███▋                            | 10kB 21.3MB/s eta 0:00:01\r\u001b[K     |███████▎                        | 20kB 28.1MB/s eta 0:00:01\r\u001b[K     |███████████                     | 30kB 35.3MB/s eta 0:00:01\r\u001b[K     |██████████████▌                 | 40kB 23.8MB/s eta 0:00:01\r\u001b[K     |██████████████████▏             | 51kB 19.0MB/s eta 0:00:01\r\u001b[K     |█████████████████████▉          | 61kB 21.8MB/s eta 0:00:01\r\u001b[K     |█████████████████████████▌      | 71kB 15.6MB/s eta 0:00:01\r\u001b[K     |█████████████████████████████   | 81kB 17.1MB/s eta 0:00:01\r\u001b[K     |████████████████████████████████| 92kB 8.9MB/s \n",
            "\u001b[?25hRequirement already satisfied: numpy in /usr/local/lib/python3.6/dist-packages (from transformers) (1.17.5)\n",
            "Requirement already satisfied: tqdm in /usr/local/lib/python3.6/dist-packages (from transformers) (4.28.1)\n",
            "Collecting sentencepiece\n",
            "\u001b[?25l  Downloading https://files.pythonhosted.org/packages/74/f4/2d5214cbf13d06e7cb2c20d84115ca25b53ea76fa1f0ade0e3c9749de214/sentencepiece-0.1.85-cp36-cp36m-manylinux1_x86_64.whl (1.0MB)\n",
            "\r\u001b[K     |▎                               | 10kB 38.4MB/s eta 0:00:01\r\u001b[K     |▋                               | 20kB 23.8MB/s eta 0:00:01\r\u001b[K     |█                               | 30kB 30.1MB/s eta 0:00:01\r\u001b[K     |█▎                              | 40kB 22.5MB/s eta 0:00:01\r\u001b[K     |█▋                              | 51kB 13.7MB/s eta 0:00:01\r\u001b[K     |██                              | 61kB 15.9MB/s eta 0:00:01\r\u001b[K     |██▏                             | 71kB 15.3MB/s eta 0:00:01\r\u001b[K     |██▌                             | 81kB 12.4MB/s eta 0:00:01\r\u001b[K     |██▉                             | 92kB 13.6MB/s eta 0:00:01\r\u001b[K     |███▏                            | 102kB 10.9MB/s eta 0:00:01\r\u001b[K     |███▌                            | 112kB 10.9MB/s eta 0:00:01\r\u001b[K     |███▉                            | 122kB 10.9MB/s eta 0:00:01\r\u001b[K     |████                            | 133kB 10.9MB/s eta 0:00:01\r\u001b[K     |████▍                           | 143kB 10.9MB/s eta 0:00:01\r\u001b[K     |████▊                           | 153kB 10.9MB/s eta 0:00:01\r\u001b[K     |█████                           | 163kB 10.9MB/s eta 0:00:01\r\u001b[K     |█████▍                          | 174kB 10.9MB/s eta 0:00:01\r\u001b[K     |█████▊                          | 184kB 10.9MB/s eta 0:00:01\r\u001b[K     |██████                          | 194kB 10.9MB/s eta 0:00:01\r\u001b[K     |██████▎                         | 204kB 10.9MB/s eta 0:00:01\r\u001b[K     |██████▋                         | 215kB 10.9MB/s eta 0:00:01\r\u001b[K     |███████                         | 225kB 10.9MB/s eta 0:00:01\r\u001b[K     |███████▎                        | 235kB 10.9MB/s eta 0:00:01\r\u001b[K     |███████▋                        | 245kB 10.9MB/s eta 0:00:01\r\u001b[K     |███████▉                        | 256kB 10.9MB/s eta 0:00:01\r\u001b[K     |████████▏                       | 266kB 10.9MB/s eta 0:00:01\r\u001b[K     |████████▌                       | 276kB 10.9MB/s eta 0:00:01\r\u001b[K     |████████▉                       | 286kB 10.9MB/s eta 0:00:01\r\u001b[K     |█████████▏                      | 296kB 10.9MB/s eta 0:00:01\r\u001b[K     |█████████▌                      | 307kB 10.9MB/s eta 0:00:01\r\u001b[K     |█████████▊                      | 317kB 10.9MB/s eta 0:00:01\r\u001b[K     |██████████                      | 327kB 10.9MB/s eta 0:00:01\r\u001b[K     |██████████▍                     | 337kB 10.9MB/s eta 0:00:01\r\u001b[K     |██████████▊                     | 348kB 10.9MB/s eta 0:00:01\r\u001b[K     |███████████                     | 358kB 10.9MB/s eta 0:00:01\r\u001b[K     |███████████▍                    | 368kB 10.9MB/s eta 0:00:01\r\u001b[K     |███████████▋                    | 378kB 10.9MB/s eta 0:00:01\r\u001b[K     |████████████                    | 389kB 10.9MB/s eta 0:00:01\r\u001b[K     |████████████▎                   | 399kB 10.9MB/s eta 0:00:01\r\u001b[K     |████████████▋                   | 409kB 10.9MB/s eta 0:00:01\r\u001b[K     |█████████████                   | 419kB 10.9MB/s eta 0:00:01\r\u001b[K     |█████████████▎                  | 430kB 10.9MB/s eta 0:00:01\r\u001b[K     |█████████████▌                  | 440kB 10.9MB/s eta 0:00:01\r\u001b[K     |█████████████▉                  | 450kB 10.9MB/s eta 0:00:01\r\u001b[K     |██████████████▏                 | 460kB 10.9MB/s eta 0:00:01\r\u001b[K     |██████████████▌                 | 471kB 10.9MB/s eta 0:00:01\r\u001b[K     |██████████████▉                 | 481kB 10.9MB/s eta 0:00:01\r\u001b[K     |███████████████▏                | 491kB 10.9MB/s eta 0:00:01\r\u001b[K     |███████████████▍                | 501kB 10.9MB/s eta 0:00:01\r\u001b[K     |███████████████▊                | 512kB 10.9MB/s eta 0:00:01\r\u001b[K     |████████████████                | 522kB 10.9MB/s eta 0:00:01\r\u001b[K     |████████████████▍               | 532kB 10.9MB/s eta 0:00:01\r\u001b[K     |████████████████▊               | 542kB 10.9MB/s eta 0:00:01\r\u001b[K     |█████████████████               | 552kB 10.9MB/s eta 0:00:01\r\u001b[K     |█████████████████▎              | 563kB 10.9MB/s eta 0:00:01\r\u001b[K     |█████████████████▋              | 573kB 10.9MB/s eta 0:00:01\r\u001b[K     |██████████████████              | 583kB 10.9MB/s eta 0:00:01\r\u001b[K     |██████████████████▎             | 593kB 10.9MB/s eta 0:00:01\r\u001b[K     |██████████████████▋             | 604kB 10.9MB/s eta 0:00:01\r\u001b[K     |███████████████████             | 614kB 10.9MB/s eta 0:00:01\r\u001b[K     |███████████████████▏            | 624kB 10.9MB/s eta 0:00:01\r\u001b[K     |███████████████████▌            | 634kB 10.9MB/s eta 0:00:01\r\u001b[K     |███████████████████▉            | 645kB 10.9MB/s eta 0:00:01\r\u001b[K     |████████████████████▏           | 655kB 10.9MB/s eta 0:00:01\r\u001b[K     |████████████████████▌           | 665kB 10.9MB/s eta 0:00:01\r\u001b[K     |████████████████████▉           | 675kB 10.9MB/s eta 0:00:01\r\u001b[K     |█████████████████████▏          | 686kB 10.9MB/s eta 0:00:01\r\u001b[K     |█████████████████████▍          | 696kB 10.9MB/s eta 0:00:01\r\u001b[K     |█████████████████████▊          | 706kB 10.9MB/s eta 0:00:01\r\u001b[K     |██████████████████████          | 716kB 10.9MB/s eta 0:00:01\r\u001b[K     |██████████████████████▍         | 727kB 10.9MB/s eta 0:00:01\r\u001b[K     |██████████████████████▊         | 737kB 10.9MB/s eta 0:00:01\r\u001b[K     |███████████████████████         | 747kB 10.9MB/s eta 0:00:01\r\u001b[K     |███████████████████████▎        | 757kB 10.9MB/s eta 0:00:01\r\u001b[K     |███████████████████████▋        | 768kB 10.9MB/s eta 0:00:01\r\u001b[K     |████████████████████████        | 778kB 10.9MB/s eta 0:00:01\r\u001b[K     |████████████████████████▎       | 788kB 10.9MB/s eta 0:00:01\r\u001b[K     |████████████████████████▋       | 798kB 10.9MB/s eta 0:00:01\r\u001b[K     |█████████████████████████       | 808kB 10.9MB/s eta 0:00:01\r\u001b[K     |█████████████████████████▏      | 819kB 10.9MB/s eta 0:00:01\r\u001b[K     |█████████████████████████▌      | 829kB 10.9MB/s eta 0:00:01\r\u001b[K     |█████████████████████████▉      | 839kB 10.9MB/s eta 0:00:01\r\u001b[K     |██████████████████████████▏     | 849kB 10.9MB/s eta 0:00:01\r\u001b[K     |██████████████████████████▌     | 860kB 10.9MB/s eta 0:00:01\r\u001b[K     |██████████████████████████▉     | 870kB 10.9MB/s eta 0:00:01\r\u001b[K     |███████████████████████████     | 880kB 10.9MB/s eta 0:00:01\r\u001b[K     |███████████████████████████▍    | 890kB 10.9MB/s eta 0:00:01\r\u001b[K     |███████████████████████████▊    | 901kB 10.9MB/s eta 0:00:01\r\u001b[K     |████████████████████████████    | 911kB 10.9MB/s eta 0:00:01\r\u001b[K     |████████████████████████████▍   | 921kB 10.9MB/s eta 0:00:01\r\u001b[K     |████████████████████████████▊   | 931kB 10.9MB/s eta 0:00:01\r\u001b[K     |█████████████████████████████   | 942kB 10.9MB/s eta 0:00:01\r\u001b[K     |█████████████████████████████▎  | 952kB 10.9MB/s eta 0:00:01\r\u001b[K     |█████████████████████████████▋  | 962kB 10.9MB/s eta 0:00:01\r\u001b[K     |██████████████████████████████  | 972kB 10.9MB/s eta 0:00:01\r\u001b[K     |██████████████████████████████▎ | 983kB 10.9MB/s eta 0:00:01\r\u001b[K     |██████████████████████████████▋ | 993kB 10.9MB/s eta 0:00:01\r\u001b[K     |██████████████████████████████▉ | 1.0MB 10.9MB/s eta 0:00:01\r\u001b[K     |███████████████████████████████▏| 1.0MB 10.9MB/s eta 0:00:01\r\u001b[K     |███████████████████████████████▌| 1.0MB 10.9MB/s eta 0:00:01\r\u001b[K     |███████████████████████████████▉| 1.0MB 10.9MB/s eta 0:00:01\r\u001b[K     |████████████████████████████████| 1.0MB 10.9MB/s \n",
            "\u001b[?25hRequirement already satisfied: regex!=2019.12.17 in /usr/local/lib/python3.6/dist-packages (from transformers) (2019.12.20)\n",
            "Requirement already satisfied: requests in /usr/local/lib/python3.6/dist-packages (from transformers) (2.21.0)\n",
            "Collecting sacremoses\n",
            "\u001b[?25l  Downloading https://files.pythonhosted.org/packages/a6/b4/7a41d630547a4afd58143597d5a49e07bfd4c42914d8335b2a5657efc14b/sacremoses-0.0.38.tar.gz (860kB)\n",
            "\r\u001b[K     |▍                               | 10kB 33.3MB/s eta 0:00:01\r\u001b[K     |▊                               | 20kB 43.0MB/s eta 0:00:01\r\u001b[K     |█▏                              | 30kB 52.4MB/s eta 0:00:01\r\u001b[K     |█▌                              | 40kB 31.6MB/s eta 0:00:01\r\u001b[K     |██                              | 51kB 22.2MB/s eta 0:00:01\r\u001b[K     |██▎                             | 61kB 25.2MB/s eta 0:00:01\r\u001b[K     |██▋                             | 71kB 21.4MB/s eta 0:00:01\r\u001b[K     |███                             | 81kB 19.2MB/s eta 0:00:01\r\u001b[K     |███▍                            | 92kB 20.9MB/s eta 0:00:01\r\u001b[K     |███▉                            | 102kB 19.9MB/s eta 0:00:01\r\u001b[K     |████▏                           | 112kB 19.9MB/s eta 0:00:01\r\u001b[K     |████▋                           | 122kB 19.9MB/s eta 0:00:01\r\u001b[K     |█████                           | 133kB 19.9MB/s eta 0:00:01\r\u001b[K     |█████▎                          | 143kB 19.9MB/s eta 0:00:01\r\u001b[K     |█████▊                          | 153kB 19.9MB/s eta 0:00:01\r\u001b[K     |██████                          | 163kB 19.9MB/s eta 0:00:01\r\u001b[K     |██████▌                         | 174kB 19.9MB/s eta 0:00:01\r\u001b[K     |██████▉                         | 184kB 19.9MB/s eta 0:00:01\r\u001b[K     |███████▎                        | 194kB 19.9MB/s eta 0:00:01\r\u001b[K     |███████▋                        | 204kB 19.9MB/s eta 0:00:01\r\u001b[K     |████████                        | 215kB 19.9MB/s eta 0:00:01\r\u001b[K     |████████▍                       | 225kB 19.9MB/s eta 0:00:01\r\u001b[K     |████████▊                       | 235kB 19.9MB/s eta 0:00:01\r\u001b[K     |█████████▏                      | 245kB 19.9MB/s eta 0:00:01\r\u001b[K     |█████████▌                      | 256kB 19.9MB/s eta 0:00:01\r\u001b[K     |██████████                      | 266kB 19.9MB/s eta 0:00:01\r\u001b[K     |██████████▎                     | 276kB 19.9MB/s eta 0:00:01\r\u001b[K     |██████████▋                     | 286kB 19.9MB/s eta 0:00:01\r\u001b[K     |███████████                     | 296kB 19.9MB/s eta 0:00:01\r\u001b[K     |███████████▍                    | 307kB 19.9MB/s eta 0:00:01\r\u001b[K     |███████████▉                    | 317kB 19.9MB/s eta 0:00:01\r\u001b[K     |████████████▏                   | 327kB 19.9MB/s eta 0:00:01\r\u001b[K     |████████████▋                   | 337kB 19.9MB/s eta 0:00:01\r\u001b[K     |█████████████                   | 348kB 19.9MB/s eta 0:00:01\r\u001b[K     |█████████████▎                  | 358kB 19.9MB/s eta 0:00:01\r\u001b[K     |█████████████▊                  | 368kB 19.9MB/s eta 0:00:01\r\u001b[K     |██████████████                  | 378kB 19.9MB/s eta 0:00:01\r\u001b[K     |██████████████▌                 | 389kB 19.9MB/s eta 0:00:01\r\u001b[K     |██████████████▉                 | 399kB 19.9MB/s eta 0:00:01\r\u001b[K     |███████████████▎                | 409kB 19.9MB/s eta 0:00:01\r\u001b[K     |███████████████▋                | 419kB 19.9MB/s eta 0:00:01\r\u001b[K     |████████████████                | 430kB 19.9MB/s eta 0:00:01\r\u001b[K     |████████████████▍               | 440kB 19.9MB/s eta 0:00:01\r\u001b[K     |████████████████▊               | 450kB 19.9MB/s eta 0:00:01\r\u001b[K     |█████████████████▏              | 460kB 19.9MB/s eta 0:00:01\r\u001b[K     |█████████████████▌              | 471kB 19.9MB/s eta 0:00:01\r\u001b[K     |██████████████████              | 481kB 19.9MB/s eta 0:00:01\r\u001b[K     |██████████████████▎             | 491kB 19.9MB/s eta 0:00:01\r\u001b[K     |██████████████████▋             | 501kB 19.9MB/s eta 0:00:01\r\u001b[K     |███████████████████             | 512kB 19.9MB/s eta 0:00:01\r\u001b[K     |███████████████████▍            | 522kB 19.9MB/s eta 0:00:01\r\u001b[K     |███████████████████▉            | 532kB 19.9MB/s eta 0:00:01\r\u001b[K     |████████████████████▏           | 542kB 19.9MB/s eta 0:00:01\r\u001b[K     |████████████████████▋           | 552kB 19.9MB/s eta 0:00:01\r\u001b[K     |█████████████████████           | 563kB 19.9MB/s eta 0:00:01\r\u001b[K     |█████████████████████▎          | 573kB 19.9MB/s eta 0:00:01\r\u001b[K     |█████████████████████▊          | 583kB 19.9MB/s eta 0:00:01\r\u001b[K     |██████████████████████          | 593kB 19.9MB/s eta 0:00:01\r\u001b[K     |██████████████████████▌         | 604kB 19.9MB/s eta 0:00:01\r\u001b[K     |██████████████████████▉         | 614kB 19.9MB/s eta 0:00:01\r\u001b[K     |███████████████████████▏        | 624kB 19.9MB/s eta 0:00:01\r\u001b[K     |███████████████████████▋        | 634kB 19.9MB/s eta 0:00:01\r\u001b[K     |████████████████████████        | 645kB 19.9MB/s eta 0:00:01\r\u001b[K     |████████████████████████▍       | 655kB 19.9MB/s eta 0:00:01\r\u001b[K     |████████████████████████▊       | 665kB 19.9MB/s eta 0:00:01\r\u001b[K     |█████████████████████████▏      | 675kB 19.9MB/s eta 0:00:01\r\u001b[K     |█████████████████████████▌      | 686kB 19.9MB/s eta 0:00:01\r\u001b[K     |█████████████████████████▉      | 696kB 19.9MB/s eta 0:00:01\r\u001b[K     |██████████████████████████▎     | 706kB 19.9MB/s eta 0:00:01\r\u001b[K     |██████████████████████████▋     | 716kB 19.9MB/s eta 0:00:01\r\u001b[K     |███████████████████████████     | 727kB 19.9MB/s eta 0:00:01\r\u001b[K     |███████████████████████████▍    | 737kB 19.9MB/s eta 0:00:01\r\u001b[K     |███████████████████████████▉    | 747kB 19.9MB/s eta 0:00:01\r\u001b[K     |████████████████████████████▏   | 757kB 19.9MB/s eta 0:00:01\r\u001b[K     |████████████████████████████▌   | 768kB 19.9MB/s eta 0:00:01\r\u001b[K     |█████████████████████████████   | 778kB 19.9MB/s eta 0:00:01\r\u001b[K     |█████████████████████████████▎  | 788kB 19.9MB/s eta 0:00:01\r\u001b[K     |█████████████████████████████▊  | 798kB 19.9MB/s eta 0:00:01\r\u001b[K     |██████████████████████████████  | 808kB 19.9MB/s eta 0:00:01\r\u001b[K     |██████████████████████████████▌ | 819kB 19.9MB/s eta 0:00:01\r\u001b[K     |██████████████████████████████▉ | 829kB 19.9MB/s eta 0:00:01\r\u001b[K     |███████████████████████████████▏| 839kB 19.9MB/s eta 0:00:01\r\u001b[K     |███████████████████████████████▋| 849kB 19.9MB/s eta 0:00:01\r\u001b[K     |████████████████████████████████| 860kB 19.9MB/s eta 0:00:01\r\u001b[K     |████████████████████████████████| 870kB 19.9MB/s \n",
            "\u001b[?25hRequirement already satisfied: boto3 in /usr/local/lib/python3.6/dist-packages (from transformers) (1.10.47)\n",
            "Requirement already satisfied: idna<2.9,>=2.5 in /usr/local/lib/python3.6/dist-packages (from requests->transformers) (2.8)\n",
            "Requirement already satisfied: urllib3<1.25,>=1.21.1 in /usr/local/lib/python3.6/dist-packages (from requests->transformers) (1.24.3)\n",
            "Requirement already satisfied: certifi>=2017.4.17 in /usr/local/lib/python3.6/dist-packages (from requests->transformers) (2019.11.28)\n",
            "Requirement already satisfied: chardet<3.1.0,>=3.0.2 in /usr/local/lib/python3.6/dist-packages (from requests->transformers) (3.0.4)\n",
            "Requirement already satisfied: six in /usr/local/lib/python3.6/dist-packages (from sacremoses->transformers) (1.12.0)\n",
            "Requirement already satisfied: click in /usr/local/lib/python3.6/dist-packages (from sacremoses->transformers) (7.0)\n",
            "Requirement already satisfied: joblib in /usr/local/lib/python3.6/dist-packages (from sacremoses->transformers) (0.14.1)\n",
            "Requirement already satisfied: s3transfer<0.3.0,>=0.2.0 in /usr/local/lib/python3.6/dist-packages (from boto3->transformers) (0.2.1)\n",
            "Requirement already satisfied: jmespath<1.0.0,>=0.7.1 in /usr/local/lib/python3.6/dist-packages (from boto3->transformers) (0.9.4)\n",
            "Requirement already satisfied: botocore<1.14.0,>=1.13.47 in /usr/local/lib/python3.6/dist-packages (from boto3->transformers) (1.13.47)\n",
            "Requirement already satisfied: python-dateutil<3.0.0,>=2.1; python_version >= \"2.7\" in /usr/local/lib/python3.6/dist-packages (from botocore<1.14.0,>=1.13.47->boto3->transformers) (2.6.1)\n",
            "Requirement already satisfied: docutils<0.16,>=0.10 in /usr/local/lib/python3.6/dist-packages (from botocore<1.14.0,>=1.13.47->boto3->transformers) (0.15.2)\n",
            "Building wheels for collected packages: sacremoses\n",
            "  Building wheel for sacremoses (setup.py) ... \u001b[?25l\u001b[?25hdone\n",
            "  Created wheel for sacremoses: filename=sacremoses-0.0.38-cp36-none-any.whl size=884629 sha256=00b8faf66227faf552164df94ca1b6b4932354bdd83b5d6620a2c1e518689442\n",
            "  Stored in directory: /root/.cache/pip/wheels/6d/ec/1a/21b8912e35e02741306f35f66c785f3afe94de754a0eaf1422\n",
            "Successfully built sacremoses\n",
            "Installing collected packages: sentencepiece, sacremoses, transformers, pytorch-nlp\n",
            "Successfully installed pytorch-nlp-0.5.0 sacremoses-0.0.38 sentencepiece-0.1.85 transformers-2.3.0\n"
          ],
          "name": "stdout"
        }
      ]
    },
    {
      "cell_type": "code",
      "metadata": {
        "id": "JG39F5pUdFro",
        "colab_type": "code",
        "outputId": "c200ee0a-e46d-4225-ba58-108b6bdce7e5",
        "colab": {
          "base_uri": "https://localhost:8080/",
          "height": 81
        }
      },
      "source": [
        "%matplotlib inline\n",
        "import sys\n",
        "import itertools\n",
        "import numpy as np\n",
        "import random\n",
        "import matplotlib.pyplot as plt\n",
        "import torch\n",
        "from transformers import BertModel\n",
        "from torch import nn\n",
        "from torchnlp.datasets import imdb_dataset\n",
        "from transformers import BertTokenizer\n",
        "from keras.preprocessing.sequence import pad_sequences\n",
        "from torch.utils.data import TensorDataset, DataLoader, RandomSampler, SequentialSampler\n",
        "from torch.optim import Adam\n",
        "from torch.nn.utils import clip_grad_norm_\n",
        "from IPython.display import clear_output"
      ],
      "execution_count": 0,
      "outputs": [
        {
          "output_type": "display_data",
          "data": {
            "text/html": [
              "<p style=\"color: red;\">\n",
              "The default version of TensorFlow in Colab will soon switch to TensorFlow 2.x.<br>\n",
              "We recommend you <a href=\"https://www.tensorflow.org/guide/migrate\" target=\"_blank\">upgrade</a> now \n",
              "or ensure your notebook will continue to use TensorFlow 1.x via the <code>%tensorflow_version 1.x</code> magic:\n",
              "<a href=\"https://colab.research.google.com/notebooks/tensorflow_version.ipynb\" target=\"_blank\">more info</a>.</p>\n"
            ],
            "text/plain": [
              "<IPython.core.display.HTML object>"
            ]
          },
          "metadata": {
            "tags": []
          }
        },
        {
          "output_type": "stream",
          "text": [
            "Using TensorFlow backend.\n"
          ],
          "name": "stderr"
        }
      ]
    },
    {
      "cell_type": "code",
      "metadata": {
        "id": "iwfRSQs0dJ0f",
        "colab_type": "code",
        "colab": {}
      },
      "source": [
        "random.seed(321)\n",
        "np.random.seed(321)\n",
        "torch.manual_seed(321)\n",
        "torch.cuda.manual_seed(321)\n",
        "torch.backends.cudnn.deterministic = True\n",
        "torch.backends.cudnn.benchmark = True"
      ],
      "execution_count": 0,
      "outputs": []
    },
    {
      "cell_type": "code",
      "metadata": {
        "id": "inLyEhxVdL2Y",
        "colab_type": "code",
        "outputId": "361c4370-22f3-430a-a858-5d3b6dc8d575",
        "colab": {
          "base_uri": "https://localhost:8080/",
          "height": 35
        }
      },
      "source": [
        "train_data_full, test_data_full = imdb_dataset(train=True, test=True)"
      ],
      "execution_count": 0,
      "outputs": [
        {
          "output_type": "stream",
          "text": [
            "aclImdb_v1.tar.gz: 84.1MB [00:02, 37.6MB/s]                            \n"
          ],
          "name": "stderr"
        }
      ]
    },
    {
      "cell_type": "code",
      "metadata": {
        "id": "LULTlswodPSA",
        "colab_type": "code",
        "outputId": "9dd4e584-ac2e-4ccc-9e48-93e7a3533d48",
        "colab": {
          "base_uri": "https://localhost:8080/",
          "height": 35
        }
      },
      "source": [
        "len(train_data_full),len(test_data_full)"
      ],
      "execution_count": 0,
      "outputs": [
        {
          "output_type": "execute_result",
          "data": {
            "text/plain": [
              "(25000, 25000)"
            ]
          },
          "metadata": {
            "tags": []
          },
          "execution_count": 6
        }
      ]
    },
    {
      "cell_type": "code",
      "metadata": {
        "id": "3ZM57bSmd7x4",
        "colab_type": "code",
        "colab": {}
      },
      "source": [
        "random.shuffle(train_data_full)\n",
        "random.shuffle(test_data_full)\n",
        "train_data = train_data_full[:]\n",
        "test_data = test_data_full[:]"
      ],
      "execution_count": 0,
      "outputs": []
    },
    {
      "cell_type": "code",
      "metadata": {
        "id": "lGgdhYBOeHZ_",
        "colab_type": "code",
        "colab": {}
      },
      "source": [
        "tokenizer = BertTokenizer.from_pretrained('bert-base-uncased', do_lower_case=True)"
      ],
      "execution_count": 0,
      "outputs": []
    },
    {
      "cell_type": "code",
      "metadata": {
        "id": "JaDob4FPers4",
        "colab_type": "code",
        "outputId": "6cc4c819-fa33-44d3-818a-af4408b447de",
        "colab": {
          "base_uri": "https://localhost:8080/",
          "height": 35
        }
      },
      "source": [
        "train_texts, train_labels = list(zip(*map(lambda d: (d['text'], d['sentiment']), train_data)))\n",
        "test_texts, test_labels = list(zip(*map(lambda d: (d['text'], d['sentiment']), test_data)))\n",
        "\n",
        "len(train_texts), len(train_labels), len(test_texts), len(test_labels)"
      ],
      "execution_count": 0,
      "outputs": [
        {
          "output_type": "execute_result",
          "data": {
            "text/plain": [
              "(25000, 25000, 25000, 25000)"
            ]
          },
          "metadata": {
            "tags": []
          },
          "execution_count": 9
        }
      ]
    },
    {
      "cell_type": "code",
      "metadata": {
        "id": "8cL8fhoeezkg",
        "colab_type": "code",
        "outputId": "94e0175e-e78d-44f8-f369-98dd05341ea3",
        "colab": {
          "base_uri": "https://localhost:8080/",
          "height": 52
        }
      },
      "source": [
        "%%time\n",
        "train_tokens = list(map(lambda t: ['[CLS]'] + tokenizer.tokenize(t)[:511], train_texts))\n",
        "test_tokens = list(map(lambda t: ['[CLS]'] + tokenizer.tokenize(t)[:511], test_texts))\n",
        "\n",
        "len(train_tokens), len(test_tokens)"
      ],
      "execution_count": 0,
      "outputs": [
        {
          "output_type": "stream",
          "text": [
            "CPU times: user 3min 11s, sys: 642 ms, total: 3min 12s\n",
            "Wall time: 3min 12s\n"
          ],
          "name": "stdout"
        }
      ]
    },
    {
      "cell_type": "code",
      "metadata": {
        "id": "ZiQoA7rLe3fW",
        "colab_type": "code",
        "colab": {}
      },
      "source": [
        "train_tokens_ids = list(map(tokenizer.convert_tokens_to_ids, train_tokens))\n",
        "test_tokens_ids = list(map(tokenizer.convert_tokens_to_ids, test_tokens))"
      ],
      "execution_count": 0,
      "outputs": []
    },
    {
      "cell_type": "code",
      "metadata": {
        "id": "LVsbJu-4e8V_",
        "colab_type": "code",
        "outputId": "96b882c3-ad6c-43be-aaf3-1d8d51b27407",
        "colab": {
          "base_uri": "https://localhost:8080/",
          "height": 35
        }
      },
      "source": [
        "train_tokens_ids = pad_sequences(train_tokens_ids, maxlen=512, truncating=\"post\", padding=\"post\", dtype=\"int\")\n",
        "test_tokens_ids = pad_sequences(test_tokens_ids, maxlen=512, truncating=\"post\", padding=\"post\", dtype=\"int\")\n",
        "\n",
        "train_tokens_ids.shape, test_tokens_ids.shape"
      ],
      "execution_count": 0,
      "outputs": [
        {
          "output_type": "execute_result",
          "data": {
            "text/plain": [
              "((25000, 512), (25000, 512))"
            ]
          },
          "metadata": {
            "tags": []
          },
          "execution_count": 12
        }
      ]
    },
    {
      "cell_type": "code",
      "metadata": {
        "id": "_QolahcTe_Ev",
        "colab_type": "code",
        "outputId": "9872af32-e670-404f-974c-4217490f6820",
        "colab": {
          "base_uri": "https://localhost:8080/",
          "height": 35
        }
      },
      "source": [
        "train_y = np.array(train_labels) == 'pos'\n",
        "test_y = np.array(test_labels) == 'pos'\n",
        "train_y.shape, test_y.shape, np.mean(train_y), np.mean(test_y)"
      ],
      "execution_count": 0,
      "outputs": [
        {
          "output_type": "execute_result",
          "data": {
            "text/plain": [
              "((25000,), (25000,), 0.5, 0.5)"
            ]
          },
          "metadata": {
            "tags": []
          },
          "execution_count": 13
        }
      ]
    },
    {
      "cell_type": "code",
      "metadata": {
        "id": "rj2noqzxmz4B",
        "colab_type": "code",
        "colab": {}
      },
      "source": [
        "train_masks = [[float(i > 0) for i in ii] for ii in train_tokens_ids]\n",
        "test_masks = [[float(i > 0) for i in ii] for ii in test_tokens_ids]"
      ],
      "execution_count": 0,
      "outputs": []
    },
    {
      "cell_type": "code",
      "metadata": {
        "id": "dSAKYmqDm2Ww",
        "colab_type": "code",
        "colab": {}
      },
      "source": [
        "from sklearn.feature_extraction.text import CountVectorizer\n",
        "from sklearn.linear_model import LogisticRegression\n",
        "from sklearn.pipeline import make_pipeline\n",
        "from sklearn.metrics import classification_report"
      ],
      "execution_count": 0,
      "outputs": []
    },
    {
      "cell_type": "code",
      "metadata": {
        "id": "XV7SrKrtm4lY",
        "colab_type": "code",
        "outputId": "f9accd37-eb3d-43c4-8864-efac4297750f",
        "colab": {
          "base_uri": "https://localhost:8080/",
          "height": 175
        }
      },
      "source": [
        "baseline_model = make_pipeline(CountVectorizer(ngram_range=(1,3)), LogisticRegression()).fit(train_texts, train_labels)"
      ],
      "execution_count": 0,
      "outputs": [
        {
          "output_type": "stream",
          "text": [
            "/usr/local/lib/python3.6/dist-packages/sklearn/linear_model/_logistic.py:940: ConvergenceWarning: lbfgs failed to converge (status=1):\n",
            "STOP: TOTAL NO. of ITERATIONS REACHED LIMIT.\n",
            "\n",
            "Increase the number of iterations (max_iter) or scale the data as shown in:\n",
            "    https://scikit-learn.org/stable/modules/preprocessing.html\n",
            "Please also refer to the documentation for alternative solver options:\n",
            "    https://scikit-learn.org/stable/modules/linear_model.html#logistic-regression\n",
            "  extra_warning_msg=_LOGISTIC_SOLVER_CONVERGENCE_MSG)\n"
          ],
          "name": "stderr"
        }
      ]
    },
    {
      "cell_type": "code",
      "metadata": {
        "id": "9hYTfBvmm6hB",
        "colab_type": "code",
        "colab": {}
      },
      "source": [
        "baseline_predicted = baseline_model.predict(test_texts)"
      ],
      "execution_count": 0,
      "outputs": []
    },
    {
      "cell_type": "code",
      "metadata": {
        "id": "vFD_nT1Bm8bQ",
        "colab_type": "code",
        "outputId": "794ce113-441b-4a8f-9857-f4f49272173c",
        "colab": {
          "base_uri": "https://localhost:8080/",
          "height": 173
        }
      },
      "source": [
        "print(classification_report(test_labels, baseline_predicted))"
      ],
      "execution_count": 0,
      "outputs": [
        {
          "output_type": "stream",
          "text": [
            "              precision    recall  f1-score   support\n",
            "\n",
            "         neg       0.90      0.89      0.90     12500\n",
            "         pos       0.90      0.90      0.90     12500\n",
            "\n",
            "    accuracy                           0.90     25000\n",
            "   macro avg       0.90      0.90      0.90     25000\n",
            "weighted avg       0.90      0.90      0.90     25000\n",
            "\n"
          ],
          "name": "stdout"
        }
      ]
    },
    {
      "cell_type": "code",
      "metadata": {
        "id": "KaogxV9cm-4q",
        "colab_type": "code",
        "colab": {}
      },
      "source": [
        "class BertBinaryClassifier(nn.Module):\n",
        "    def __init__(self, dropout=0.1):\n",
        "        super(BertBinaryClassifier, self).__init__()\n",
        "\n",
        "        self.bert = BertModel.from_pretrained('bert-base-uncased')\n",
        "        self.linear = nn.Linear(768, 1)\n",
        "    \n",
        "    def forward(self, tokens, masks=None):\n",
        "        _, pooled_output = self.bert(tokens, attention_mask=masks)\n",
        "        linear_output = self.linear(pooled_output)\n",
        "        return linear_output"
      ],
      "execution_count": 0,
      "outputs": []
    },
    {
      "cell_type": "code",
      "metadata": {
        "id": "g0vuhy1MngDh",
        "colab_type": "code",
        "outputId": "eb55aa98-d4f2-424d-cfeb-9ced3c31fbb2",
        "colab": {
          "base_uri": "https://localhost:8080/",
          "height": 35
        }
      },
      "source": [
        "device = torch.device(\"cuda\" if torch.cuda.is_available() else \"cpu\")\n",
        "device"
      ],
      "execution_count": 0,
      "outputs": [
        {
          "output_type": "execute_result",
          "data": {
            "text/plain": [
              "device(type='cuda')"
            ]
          },
          "metadata": {
            "tags": []
          },
          "execution_count": 20
        }
      ]
    },
    {
      "cell_type": "code",
      "metadata": {
        "id": "3JpztqrVniHY",
        "colab_type": "code",
        "colab": {}
      },
      "source": [
        "bert_clf = BertBinaryClassifier()\n",
        "bert_clf = bert_clf.cuda()"
      ],
      "execution_count": 0,
      "outputs": []
    },
    {
      "cell_type": "code",
      "metadata": {
        "id": "ZvSevJHlnkEp",
        "colab_type": "code",
        "colab": {}
      },
      "source": [
        "BATCH_SIZE = 12\n",
        "EPOCHS = 2"
      ],
      "execution_count": 0,
      "outputs": []
    },
    {
      "cell_type": "code",
      "metadata": {
        "id": "nf3APdg_noY7",
        "colab_type": "code",
        "outputId": "d2498eb9-788d-4fdf-a069-3a45cb267660",
        "colab": {
          "base_uri": "https://localhost:8080/",
          "height": 35
        }
      },
      "source": [
        "train_tokens_tensor = torch.tensor(train_tokens_ids)\n",
        "train_y_tensor = torch.tensor(train_y.reshape(-1, 1)).float()\n",
        "\n",
        "test_tokens_tensor = torch.tensor(test_tokens_ids)\n",
        "test_y_tensor = torch.tensor(test_y.reshape(-1, 1)).float()\n",
        "\n",
        "train_masks_tensor = torch.tensor(train_masks)\n",
        "test_masks_tensor = torch.tensor(test_masks)\n",
        "\n",
        "str(torch.cuda.memory_allocated(device)/1000000 ) + 'M'"
      ],
      "execution_count": 0,
      "outputs": [
        {
          "output_type": "execute_result",
          "data": {
            "text/plain": [
              "'439.065088M'"
            ]
          },
          "metadata": {
            "tags": []
          },
          "execution_count": 23
        }
      ]
    },
    {
      "cell_type": "code",
      "metadata": {
        "id": "nrn0BkWRnq9u",
        "colab_type": "code",
        "colab": {}
      },
      "source": [
        "train_dataset = TensorDataset(train_tokens_tensor, train_masks_tensor, train_y_tensor)\n",
        "train_sampler = RandomSampler(train_dataset)\n",
        "train_dataloader = DataLoader(train_dataset, sampler=train_sampler, batch_size=BATCH_SIZE)\n",
        "\n",
        "test_dataset = TensorDataset(test_tokens_tensor, test_masks_tensor, test_y_tensor)\n",
        "test_sampler = SequentialSampler(test_dataset)\n",
        "test_dataloader = DataLoader(test_dataset, sampler=test_sampler, batch_size=BATCH_SIZE)"
      ],
      "execution_count": 0,
      "outputs": []
    },
    {
      "cell_type": "code",
      "metadata": {
        "id": "72s8jKJontso",
        "colab_type": "code",
        "colab": {}
      },
      "source": [
        "optimizer = Adam(bert_clf.parameters(), lr=3e-6)"
      ],
      "execution_count": 0,
      "outputs": []
    },
    {
      "cell_type": "code",
      "metadata": {
        "id": "ltJJwqo9nvxw",
        "colab_type": "code",
        "colab": {}
      },
      "source": [
        "loss_func = nn.BCEWithLogitsLoss().cuda()"
      ],
      "execution_count": 0,
      "outputs": []
    },
    {
      "cell_type": "code",
      "metadata": {
        "id": "iaO9bXmIM-qd",
        "colab_type": "code",
        "colab": {}
      },
      "source": [
        "from tqdm.autonotebook import tqdm"
      ],
      "execution_count": 0,
      "outputs": []
    },
    {
      "cell_type": "code",
      "metadata": {
        "id": "gvDU4TECMk-0",
        "colab_type": "code",
        "outputId": "3c270ddc-8b19-4deb-e208-4fb195a2f578",
        "colab": {
          "base_uri": "https://localhost:8080/",
          "height": 98,
          "referenced_widgets": [
            "bc0f95e0b70641f1940fbd3a3fbc079e",
            "30ef0d9f5dbb4e438dc39a2f3b5b62d8",
            "0b4ea0d2cf2c44caab9b77f10c97b8c3",
            "3f25d5aca6bd4f1fb05393b41a60fa5f",
            "b83494e171784287ae2eeb65a5617060",
            "0dc34eb1c8e44c29a263e30a51fbe43b",
            "d59d7c30825641d4b0c7dfcef78c5bea",
            "9a29ad9dc2d84fffb57f78c2d98d60a9",
            "881e2c358b9c417694abd1cb678050c3",
            "abaca9c167bd4606b785b1fab6983ed7",
            "f10d8ddf517d4dc18a31b8b258e69f20",
            "1e52a4db24ef4354aa92e277c3c03407",
            "ed2fd8a5f9404e1e97e0545a6438ff37",
            "59ad10bc2d5b41cb931b6c4bd743e332",
            "17af99d33c954e9db6a916c9031899aa",
            "6535d5b0aecd47b59403691678d27ef9"
          ]
        }
      },
      "source": [
        "losses = []\n",
        "steps = []\n",
        "step = 0\n",
        "for epoch_num in range(EPOCHS):\n",
        "    bert_clf.train()\n",
        "    train_loss = 0\n",
        "    for step_num, batch_data in tqdm(enumerate(train_dataloader)):\n",
        "        token_ids, masks, labels = tuple(t.to(device) for t in batch_data)\n",
        "        probas = bert_clf(token_ids, masks)\n",
        "        \n",
        "        batch_loss = loss_func(probas, labels)\n",
        "        train_loss += batch_loss.item()\n",
        "        \n",
        "        \n",
        "        bert_clf.zero_grad()\n",
        "        batch_loss.backward()\n",
        "        \n",
        "\n",
        "        clip_grad_norm_(parameters=bert_clf.parameters(), max_norm=1.0)\n",
        "        optimizer.step()\n",
        "        \n",
        "        # clear_output(wait=True)\n",
        "        # print('Epoch: ', epoch_num + 1)\n",
        "        # print(\"{0}/{1} loss: {2} \".format(step_num, len(train_data) / BATCH_SIZE, train_loss / (step_num + 1)))\n",
        "        losses.append(batch_loss.item())\n",
        "        steps.append(step)\n",
        "        step += 1"
      ],
      "execution_count": 0,
      "outputs": [
        {
          "output_type": "display_data",
          "data": {
            "application/vnd.jupyter.widget-view+json": {
              "model_id": "bc0f95e0b70641f1940fbd3a3fbc079e",
              "version_minor": 0,
              "version_major": 2
            },
            "text/plain": [
              "HBox(children=(IntProgress(value=1, bar_style='info', max=1), HTML(value='')))"
            ]
          },
          "metadata": {
            "tags": []
          }
        },
        {
          "output_type": "stream",
          "text": [
            "\n"
          ],
          "name": "stdout"
        },
        {
          "output_type": "display_data",
          "data": {
            "application/vnd.jupyter.widget-view+json": {
              "model_id": "881e2c358b9c417694abd1cb678050c3",
              "version_minor": 0,
              "version_major": 2
            },
            "text/plain": [
              "HBox(children=(IntProgress(value=1, bar_style='info', max=1), HTML(value='')))"
            ]
          },
          "metadata": {
            "tags": []
          }
        }
      ]
    },
    {
      "cell_type": "code",
      "metadata": {
        "id": "BghSmKogqj5H",
        "colab_type": "code",
        "colab": {}
      },
      "source": [
        "bert_clf"
      ],
      "execution_count": 0,
      "outputs": []
    },
    {
      "cell_type": "code",
      "metadata": {
        "id": "7kOwscazB4A4",
        "colab_type": "code",
        "colab": {}
      },
      "source": [
        "torch.save(bert_clf.state_dict(), '/content/drive/My Drive/experiments/BERT-imdb-4.pth')"
      ],
      "execution_count": 0,
      "outputs": []
    },
    {
      "cell_type": "code",
      "metadata": {
        "id": "sAAOob1XF3RV",
        "colab_type": "code",
        "colab": {}
      },
      "source": [
        ""
      ],
      "execution_count": 0,
      "outputs": []
    },
    {
      "cell_type": "code",
      "metadata": {
        "id": "yhLXuXaSbYqr",
        "colab_type": "code",
        "outputId": "9b2168c4-632d-4c45-8212-ff8e6eefc801",
        "colab": {
          "base_uri": "https://localhost:8080/",
          "height": 122
        }
      },
      "source": [
        "from google.colab import drive\n",
        "drive.mount('/content/drive')"
      ],
      "execution_count": 0,
      "outputs": [
        {
          "output_type": "stream",
          "text": [
            "Go to this URL in a browser: https://accounts.google.com/o/oauth2/auth?client_id=947318989803-6bn6qk8qdgf4n4g3pfee6491hc0brc4i.apps.googleusercontent.com&redirect_uri=urn%3aietf%3awg%3aoauth%3a2.0%3aoob&response_type=code&scope=email%20https%3a%2f%2fwww.googleapis.com%2fauth%2fdocs.test%20https%3a%2f%2fwww.googleapis.com%2fauth%2fdrive%20https%3a%2f%2fwww.googleapis.com%2fauth%2fdrive.photos.readonly%20https%3a%2f%2fwww.googleapis.com%2fauth%2fpeopleapi.readonly\n",
            "\n",
            "Enter your authorization code:\n",
            "··········\n",
            "Mounted at /content/drive\n"
          ],
          "name": "stdout"
        }
      ]
    },
    {
      "cell_type": "code",
      "metadata": {
        "id": "V9o3EeFobZ7z",
        "colab_type": "code",
        "outputId": "7e7571cb-a6b6-4629-d5f7-7622631c5841",
        "colab": {
          "base_uri": "https://localhost:8080/",
          "height": 34
        }
      },
      "source": [
        "!ls"
      ],
      "execution_count": 0,
      "outputs": [
        {
          "output_type": "stream",
          "text": [
            "BERT-imdb.pth  data  drive  sample_data\n"
          ],
          "name": "stdout"
        }
      ]
    },
    {
      "cell_type": "code",
      "metadata": {
        "id": "kJoX8Tf6bic7",
        "colab_type": "code",
        "colab": {}
      },
      "source": [
        "!cd /content/drive"
      ],
      "execution_count": 0,
      "outputs": []
    },
    {
      "cell_type": "code",
      "metadata": {
        "id": "SDVhu-lRcXQz",
        "colab_type": "code",
        "outputId": "a2f66156-53cf-49d1-b79f-a7f5441b466a",
        "colab": {
          "base_uri": "https://localhost:8080/",
          "height": 34
        }
      },
      "source": [
        "!ls"
      ],
      "execution_count": 0,
      "outputs": [
        {
          "output_type": "stream",
          "text": [
            "BERT-imdb.pth  data  drive  sample_data\n"
          ],
          "name": "stdout"
        }
      ]
    },
    {
      "cell_type": "code",
      "metadata": {
        "id": "hLuDm9lypXPO",
        "colab_type": "code",
        "colab": {}
      },
      "source": [
        "def sigmoid(x):                                        \n",
        "    return 1 / (1 + np.exp(-x))"
      ],
      "execution_count": 0,
      "outputs": []
    },
    {
      "cell_type": "code",
      "metadata": {
        "id": "JG-d0-Wzcpzc",
        "colab_type": "code",
        "colab": {}
      },
      "source": [
        "bert_clf.eval()\n",
        "bert_predicted = []\n",
        "all_logits = []\n",
        "with torch.no_grad():\n",
        "    for step_num, batch_data in enumerate(test_dataloader):\n",
        "\n",
        "        token_ids, masks, labels = tuple(t.to(device) for t in batch_data)\n",
        "\n",
        "        probas = bert_clf(token_ids, masks)\n",
        "        numpy_probas = probas.cpu().detach().numpy()\n",
        "        \n",
        "        bert_predicted += list(sigmoid(numpy_probas[:, 0]) > 0.5)"
      ],
      "execution_count": 0,
      "outputs": []
    },
    {
      "cell_type": "code",
      "metadata": {
        "id": "6e_rRvVui_Ed",
        "colab_type": "code",
        "outputId": "a0529715-1c40-495b-ac66-e7e2da76a0e8",
        "colab": {
          "base_uri": "https://localhost:8080/",
          "height": 170
        }
      },
      "source": [
        "print(classification_report(test_y, bert_predicted))\n"
      ],
      "execution_count": 0,
      "outputs": [
        {
          "output_type": "stream",
          "text": [
            "              precision    recall  f1-score   support\n",
            "\n",
            "       False       0.95      0.90      0.93     12500\n",
            "        True       0.91      0.96      0.93     12500\n",
            "\n",
            "    accuracy                           0.93     25000\n",
            "   macro avg       0.93      0.93      0.93     25000\n",
            "weighted avg       0.93      0.93      0.93     25000\n",
            "\n"
          ],
          "name": "stdout"
        }
      ]
    },
    {
      "cell_type": "markdown",
      "metadata": {
        "id": "3_zayoVkjBnU",
        "colab_type": "text"
      },
      "source": [
        "Distilling BERT"
      ]
    },
    {
      "cell_type": "code",
      "metadata": {
        "id": "p2zefcMRjA0P",
        "colab_type": "code",
        "colab": {}
      },
      "source": [
        "train_dataset_for_distill = TensorDataset(train_tokens_tensor, train_masks_tensor, train_y_tensor)\n",
        "train_dataloader_for_distill = DataLoader(train_dataset, batch_size=BATCH_SIZE)"
      ],
      "execution_count": 0,
      "outputs": []
    },
    {
      "cell_type": "code",
      "metadata": {
        "id": "FRxVWMGdqyOx",
        "colab_type": "code",
        "colab": {}
      },
      "source": [
        "bert_clf.eval()\n",
        "train_logits = []\n",
        "with torch.no_grad():\n",
        "    for step_num, batch_data in enumerate(train_dataloader_for_distill):\n",
        "\n",
        "        token_ids, masks, labels = tuple(t.to(device) for t in batch_data)\n",
        "\n",
        "        logits = bert_clf(token_ids, masks)\n",
        "        numpy_logits = logits.cpu().detach().numpy()\n",
        "        \n",
        "        train_logits.append(numpy_logits)\n",
        "train_logits = np.vstack(train_logits)"
      ],
      "execution_count": 0,
      "outputs": []
    },
    {
      "cell_type": "code",
      "metadata": {
        "id": "HFosfdqiq0AT",
        "colab_type": "code",
        "outputId": "009b2e64-e9f7-4ef7-d5b0-9cac730b7b14",
        "colab": {
          "base_uri": "https://localhost:8080/",
          "height": 170
        }
      },
      "source": [
        "print(classification_report(train_y, sigmoid(train_logits[:, 0]) > 0.5))"
      ],
      "execution_count": 0,
      "outputs": [
        {
          "output_type": "stream",
          "text": [
            "              precision    recall  f1-score   support\n",
            "\n",
            "       False       0.99      0.96      0.98     12500\n",
            "        True       0.97      0.99      0.98     12500\n",
            "\n",
            "    accuracy                           0.98     25000\n",
            "   macro avg       0.98      0.98      0.98     25000\n",
            "weighted avg       0.98      0.98      0.98     25000\n",
            "\n"
          ],
          "name": "stdout"
        }
      ]
    },
    {
      "cell_type": "code",
      "metadata": {
        "id": "57-648fKq50i",
        "colab_type": "code",
        "colab": {}
      },
      "source": [
        "from sklearn.linear_model import LinearRegression"
      ],
      "execution_count": 0,
      "outputs": []
    },
    {
      "cell_type": "code",
      "metadata": {
        "id": "bJBvxNWNq7W7",
        "colab_type": "code",
        "colab": {}
      },
      "source": [
        "distilled_model = make_pipeline(CountVectorizer(ngram_range=(1,3)), LinearRegression()).fit(train_texts, train_logits)"
      ],
      "execution_count": 0,
      "outputs": []
    },
    {
      "cell_type": "code",
      "metadata": {
        "id": "_8iphvdRq8wy",
        "colab_type": "code",
        "colab": {}
      },
      "source": [
        "distilled_predicted_logits = distilled_model.predict(test_texts)"
      ],
      "execution_count": 0,
      "outputs": []
    },
    {
      "cell_type": "code",
      "metadata": {
        "id": "kRQCrWqqq-Jp",
        "colab_type": "code",
        "outputId": "fe4c4595-be75-4ac4-ba6f-12403af9fb2e",
        "colab": {
          "base_uri": "https://localhost:8080/"
        }
      },
      "source": [
        "print(classification_report(test_y, sigmoid(distilled_predicted_logits[:, 0]) > 0.5))"
      ],
      "execution_count": 0,
      "outputs": [
        {
          "output_type": "stream",
          "text": [
            "              precision    recall  f1-score   support\n",
            "\n",
            "       False       0.92      0.86      0.89     12500\n",
            "        True       0.87      0.92      0.90     12500\n",
            "\n",
            "    accuracy                           0.89     25000\n",
            "   macro avg       0.89      0.89      0.89     25000\n",
            "weighted avg       0.89      0.89      0.89     25000\n",
            "\n"
          ],
          "name": "stdout"
        }
      ]
    },
    {
      "cell_type": "code",
      "metadata": {
        "id": "0zbdwaycrAHD",
        "colab_type": "code",
        "outputId": "66ceb79f-2ea5-42dd-a5ac-9c6f08424e25",
        "colab": {
          "base_uri": "https://localhost:8080/"
        }
      },
      "source": [
        "plt.hist(train_logits)"
      ],
      "execution_count": 0,
      "outputs": [
        {
          "output_type": "execute_result",
          "data": {
            "text/plain": [
              "(array([10001.,  1739.,   242.,   131.,   102.,    73.,   106.,   214.,\n",
              "         1099., 11293.]),\n",
              " array([-6.467285  , -5.164265  , -3.8612452 , -2.558225  , -1.2552049 ,\n",
              "         0.04781508,  1.3508351 ,  2.653855  ,  3.9568753 ,  5.2598953 ,\n",
              "         6.5629153 ], dtype=float32),\n",
              " <a list of 10 Patch objects>)"
            ]
          },
          "metadata": {
            "tags": []
          },
          "execution_count": 50
        },
        {
          "output_type": "display_data",
          "data": {
            "image/png": "[encoded data removed]",
            "text/plain": [
              "<Figure size 432x288 with 1 Axes>"
            ]
          },
          "metadata": {
            "tags": []
          }
        }
      ]
    },
    {
      "cell_type": "code",
      "metadata": {
        "id": "BVp1NrikrCLK",
        "colab_type": "code",
        "colab": {}
      },
      "source": [
        ""
      ],
      "execution_count": 0,
      "outputs": []
    }
  ]
}